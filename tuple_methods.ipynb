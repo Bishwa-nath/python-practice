{
 "cells": [
  {
   "cell_type": "markdown",
   "metadata": {},
   "source": [
    "# Tuple methods in python  \n",
    "### with uses."
   ]
  },
  {
   "cell_type": "markdown",
   "metadata": {},
   "source": [
    "### Tuple items are ordered, unchangeable, and allow duplicate values."
   ]
  },
  {
   "cell_type": "code",
   "execution_count": 1,
   "metadata": {},
   "outputs": [
    {
     "name": "stdout",
     "output_type": "stream",
     "text": [
      "1 found 2 times\n",
      "2 found 2 times\n",
      "3 found 3 times\n",
      "4 found 3 times\n",
      "5 found 3 times\n"
     ]
    }
   ],
   "source": [
    "# count()\tReturns the number of times a specified value occurs in a tuple\n",
    "\n",
    "tpl = (1, 2, 3, 4, 5, 2, 3, 3, 4, 5, 1, 4, 5)\n",
    "for x in [1, 2, 3, 4, 5]:\n",
    "    p = tpl.count(x)\n",
    "    print(x, 'found', p, 'times')"
   ]
  },
  {
   "cell_type": "code",
   "execution_count": 4,
   "metadata": {},
   "outputs": [
    {
     "name": "stdout",
     "output_type": "stream",
     "text": [
      "2\n",
      "2\n",
      "13\n"
     ]
    }
   ],
   "source": [
    "# index()\tSearches pisition for a specified value int the tuple\n",
    "\n",
    "x = tpl.index(3)\n",
    "print(x)\n",
    "# x = tpl.index(10)  -- raises an exception as value not found.\n",
    "print(x)\n",
    "# to print tuple length.\n",
    "print(len(tpl))"
   ]
  },
  {
   "cell_type": "code",
   "execution_count": 6,
   "metadata": {},
   "outputs": [
    {
     "name": "stdout",
     "output_type": "stream",
     "text": [
      "('apple', 'banana', 'orange', 'cat', 'mango')\n",
      "('apple', 'banana', 'orange', 'Lychee', 'mango', 'Strawberry')\n"
     ]
    }
   ],
   "source": [
    "# To change the value of a tuple, first convert it into list and change the value.\n",
    "t = (\"apple\", \"banana\", \"orange\", \"cat\", \"mango\")\n",
    "print(t)\n",
    "l = list(t)\n",
    "l[3] = \"Lychee\"\n",
    "l.append(\"Strawberry\")\n",
    "t = tuple(l)\n",
    "print(t)\n"
   ]
  },
  {
   "cell_type": "markdown",
   "metadata": {},
   "source": [
    "#### To extract the values back into variables. This is called \"unpacking\":"
   ]
  },
  {
   "cell_type": "code",
   "execution_count": 10,
   "metadata": {},
   "outputs": [
    {
     "name": "stdout",
     "output_type": "stream",
     "text": [
      "2 3 6\n",
      "8\n",
      "[3, 7, 2, 1, 4, 3, 4]\n",
      "99\n"
     ]
    }
   ],
   "source": [
    "tpl = (2, 3, 6)\n",
    "(a, b, c) = tpl\n",
    "print(a, b, c)\n",
    "tpl = (8, 3, 7, 2, 1, 4, 3, 4, 99)\n",
    "(a, *b, c) = tpl\n",
    "print(a)\n",
    "print(b)\n",
    "print(c)"
   ]
  },
  {
   "cell_type": "code",
   "execution_count": 13,
   "metadata": {},
   "outputs": [
    {
     "name": "stdout",
     "output_type": "stream",
     "text": [
      "('cat', 'dog', 'cow', 'goat', 'fish', 'meat', 'straw', 'leaf')\n",
      "('cat', 'dog', 'cow', 'goat', 'cat', 'dog', 'cow', 'goat')\n"
     ]
    }
   ],
   "source": [
    "# Touble join and multiplying....\n",
    "\n",
    "t1 = ('cat', 'dog', 'cow', 'goat')\n",
    "t2 = ('fish', 'meat', 'straw', 'leaf')\n",
    "t_join = t1 + t2\n",
    "print(t_join)\n",
    "t_multi = t1 * 2\n",
    "print(t_multi)"
   ]
  },
  {
   "cell_type": "code",
   "execution_count": null,
   "metadata": {},
   "outputs": [],
   "source": []
  }
 ],
 "metadata": {
  "interpreter": {
   "hash": "52b8f3224cbdd89a63a6f426132f26f2b039ae543b89892d6b3f5183c6cda480"
  },
  "kernelspec": {
   "display_name": "Python 3.9.1 64-bit",
   "language": "python",
   "name": "python3"
  },
  "language_info": {
   "codemirror_mode": {
    "name": "ipython",
    "version": 3
   },
   "file_extension": ".py",
   "mimetype": "text/x-python",
   "name": "python",
   "nbconvert_exporter": "python",
   "pygments_lexer": "ipython3",
   "version": "3.9.1"
  },
  "orig_nbformat": 4
 },
 "nbformat": 4,
 "nbformat_minor": 2
}
