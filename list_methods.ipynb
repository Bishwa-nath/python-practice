{
 "cells": [
  {
   "cell_type": "markdown",
   "metadata": {},
   "source": [
    "# List methonds and use.\n",
    "## Method ---- Description\n",
    "```append()``` ---- Adds an element at the end of the list  \n",
    "```clear()``` ---- Removes all the elements from the list  \n",
    "```copy()``` ---- Returns a copy of the list  \n",
    "```count()``` ---- Returns the number of elements with the specified value  \n",
    "```extend()``` ---- Add the elements of a list (or any iterable), to the end of the current list  \n",
    "```index()``` ---- Returns the index of the first element with the specified value  \n",
    "```insert()``` ---- Adds an element at the specified position  \n",
    "```pop()```\t---- Removes the element at the specified position  \n",
    "```remove()``` ----\tRemoves the first item with the specified value  \n",
    "```reverse()``` ----R everses the order of the list  \n",
    "```sort()``` ---- Sorts the list  "
   ]
  },
  {
   "cell_type": "code",
   "execution_count": 1,
   "metadata": {},
   "outputs": [],
   "source": [
    "ls_a = [32, -12, 65, 22, 993, 67]\n",
    "ls_b = [6.6, 11.9, 90, -36, 87]"
   ]
  },
  {
   "cell_type": "code",
   "execution_count": 2,
   "metadata": {},
   "outputs": [
    {
     "name": "stdout",
     "output_type": "stream",
     "text": [
      "[32, -12, 65, 22, 993, 67, 45]\n",
      "[32, -12, 65, 22, 993, 67, 45, [6.6, 11.9, 90, -36, 87]]\n"
     ]
    }
   ],
   "source": [
    "ls_a.append(45)\n",
    "print(ls_a)\n",
    "ls_a.append(ls_b)\n",
    "print(ls_a)"
   ]
  },
  {
   "cell_type": "code",
   "execution_count": 3,
   "metadata": {},
   "outputs": [
    {
     "name": "stdout",
     "output_type": "stream",
     "text": [
      "[]\n",
      "[78, 32, 90, 12, 54, 90, 34, 87]\n"
     ]
    }
   ],
   "source": [
    "ls_a.clear()\n",
    "print(ls_a)\n",
    "ls_a = [78, 32, 90, 12, 54, 90, 34, 87]\n",
    "print(ls_a)"
   ]
  },
  {
   "cell_type": "code",
   "execution_count": 4,
   "metadata": {},
   "outputs": [
    {
     "name": "stdout",
     "output_type": "stream",
     "text": [
      "[78, 32, 90, 12, 54, 90, 34, 87]\n"
     ]
    }
   ],
   "source": [
    "ls = ls_a.copy()\n",
    "print(ls)"
   ]
  },
  {
   "cell_type": "code",
   "execution_count": 5,
   "metadata": {},
   "outputs": [
    {
     "name": "stdout",
     "output_type": "stream",
     "text": [
      "3\n"
     ]
    }
   ],
   "source": [
    "ls = [65, 21, 56, 90, 65, 90, 45, 90]\n",
    "# cnt = ls.count(420)   Returns error as 420 is not in the ls.\n",
    "count = ls.count(90)    \n",
    "print(count)    "
   ]
  },
  {
   "cell_type": "code",
   "execution_count": 6,
   "metadata": {},
   "outputs": [
    {
     "name": "stdout",
     "output_type": "stream",
     "text": [
      "[65, 21, 56, 90, 65, 90, 45, 90, 6.6, 11.9, 90, -36, 87]\n",
      "[65, 21, 56, 90, 65, 90, 45, 90, 6.6, 11.9, 90, -36, 87, 'John', 'Piyush', 'Python']\n"
     ]
    }
   ],
   "source": [
    "ls.extend(ls_b)\n",
    "print(ls)\n",
    "name = ('John', 'Piyush', 'Python')\n",
    "ls.extend(name)\n",
    "print(ls)"
   ]
  },
  {
   "cell_type": "code",
   "execution_count": 7,
   "metadata": {},
   "outputs": [
    {
     "name": "stdout",
     "output_type": "stream",
     "text": [
      "3\n"
     ]
    }
   ],
   "source": [
    "ind = ls.index(90)\n",
    "print(ind)"
   ]
  },
  {
   "cell_type": "code",
   "execution_count": 8,
   "metadata": {},
   "outputs": [
    {
     "name": "stdout",
     "output_type": "stream",
     "text": [
      "[78, 32, 90, 'Hello', 12, 54, 90, 34, 87]\n",
      "[78, 32, 90, 'Python', 'Hello', 12, 54, 90, 34, 87]\n"
     ]
    }
   ],
   "source": [
    "# ls.insert(pos, value)\n",
    "ls_a.insert(3, 'Hello')\n",
    "print(ls_a)\n",
    "ls_a.insert(3, 'Python')\n",
    "print(ls_a)\n"
   ]
  },
  {
   "cell_type": "code",
   "execution_count": 9,
   "metadata": {},
   "outputs": [
    {
     "name": "stdout",
     "output_type": "stream",
     "text": [
      "[78, 32, 90, 'Python', 'Hello', 54, 90, 34, 87]\n",
      "[78, 32, 90, 'Python', 'Hello', 90, 34, 87]\n",
      "[78, 32, 90, 'Python', 'Hello', 90, 87]\n"
     ]
    }
   ],
   "source": [
    "ls_a.pop(5)\n",
    "print(ls_a)\n",
    "ls_a.pop(5)\n",
    "print(ls_a)\n",
    "ls_a.pop(6)\n",
    "print(ls_a)"
   ]
  },
  {
   "cell_type": "code",
   "execution_count": 10,
   "metadata": {},
   "outputs": [
    {
     "name": "stdout",
     "output_type": "stream",
     "text": [
      "[78, 32, 90, 'Hello', 90, 87]\n",
      "[78, 32, 90, 90, 87]\n"
     ]
    }
   ],
   "source": [
    "ls_a.remove('Python')\n",
    "print(ls_a)\n",
    "ls_a.remove('Hello')\n",
    "print(ls_a)"
   ]
  },
  {
   "cell_type": "code",
   "execution_count": 11,
   "metadata": {},
   "outputs": [
    {
     "name": "stdout",
     "output_type": "stream",
     "text": [
      "[87, 90, 90, 32, 78]\n",
      "[32, 78, 87, 90, 90]\n"
     ]
    }
   ],
   "source": [
    "ls_a.reverse()\n",
    "print(ls_a)\n",
    "ls_a.sort()\n",
    "print(ls_a)\n"
   ]
  },
  {
   "cell_type": "code",
   "execution_count": 12,
   "metadata": {},
   "outputs": [
    {
     "name": "stdout",
     "output_type": "stream",
     "text": [
      "[90, 87, 11.9, 6.6, -36]\n"
     ]
    }
   ],
   "source": [
    "ls_b.sort(reverse=True)\n",
    "print(ls_b)"
   ]
  },
  {
   "cell_type": "code",
   "execution_count": 13,
   "metadata": {},
   "outputs": [
    {
     "name": "stdout",
     "output_type": "stream",
     "text": [
      "[-234, -49, 23, 32, 45, 87, 89]\n"
     ]
    }
   ],
   "source": [
    "# sorted(list)  Returns a sorted list but sort() does not return any list.\n",
    "ls = [-49, 23, -234, 45, 89, 87, 32]\n",
    "a = sorted(ls)\n",
    "print(a)\n"
   ]
  },
  {
   "cell_type": "markdown",
   "metadata": {},
   "source": [
    "## More actions and algorithms"
   ]
  },
  {
   "cell_type": "code",
   "execution_count": 14,
   "metadata": {},
   "outputs": [
    {
     "name": "stdout",
     "output_type": "stream",
     "text": [
      "[-65, 89, 100, 32]\n",
      "[20, 39, 18, 64, 32, 100, 89, -65, 89, 54]\n",
      "-65\n"
     ]
    }
   ],
   "source": [
    "ls = [54, 89, -65, 89, 100, 32, 64, 18, 39, 20]\n",
    "# Slicing\n",
    "a = ls[2:6]\n",
    "print(a)\n",
    "# Reverse\n",
    "ls = ls[::-1]\n",
    "print(ls)\n",
    "# get value using index\n",
    "print(ls[7])"
   ]
  },
  {
   "cell_type": "code",
   "execution_count": 15,
   "metadata": {},
   "outputs": [
    {
     "name": "stdout",
     "output_type": "stream",
     "text": [
      "440\n"
     ]
    }
   ],
   "source": [
    "# sum(list)\n",
    "total = sum(ls)\n",
    "print(total)"
   ]
  },
  {
   "cell_type": "code",
   "execution_count": 3,
   "metadata": {},
   "outputs": [
    {
     "name": "stdout",
     "output_type": "stream",
     "text": [
      "[0, 2, 4, 6, 8, 10, 12, 14, 16, 18, 20, 22, 24, 26, 28, 30, 32, 34, 36, 38, 40, 42, 44, 46, 48, 50, 52, 54, 56, 58, 60, 62, 64, 66, 68, 70, 72, 74, 76, 78, 80, 82, 84, 86, 88, 90, 92, 94, 96, 98]\n"
     ]
    }
   ],
   "source": [
    "new_ls = [x for  x in range(100) if x%2 < 1]\n",
    "print(new_ls)"
   ]
  },
  {
   "cell_type": "code",
   "execution_count": 12,
   "metadata": {},
   "outputs": [
    {
     "name": "stdout",
     "output_type": "stream",
     "text": [
      "3 Found at index  0\n"
     ]
    }
   ],
   "source": [
    "# binary search\n",
    "ls = [3, 5, 9, 9, 12, 45, 47, 68, 70, 78, 83, 90]\n",
    "key = 3\n",
    "n = len(ls)\n",
    "start, end = 0, n\n",
    "ok = False\n",
    "while start < end:\n",
    "    mid = (start+end)//2\n",
    "    if ls[mid] == key:\n",
    "        ok = True\n",
    "        break\n",
    "    elif  key < ls[mid]:\n",
    "        end = mid\n",
    "    else: start = mid+1\n",
    "\n",
    "if ok: print(key, 'Found at index ', mid)\n",
    "else: print(key, 'Not Found!')"
   ]
  },
  {
   "cell_type": "code",
   "execution_count": 15,
   "metadata": {},
   "outputs": [
    {
     "name": "stdout",
     "output_type": "stream",
     "text": [
      "* * * * * * * * * * \n",
      "* * * * * * * * * * \n",
      "* * * * * * * * * * \n",
      "* * * * * * * * * * \n",
      "* * * * * * * * * * \n",
      "* * * * * * * * * * \n",
      "* * * * * * * * * * \n",
      "* * * * * * * * * * \n",
      "* * * * * * * * * * \n",
      "* * * * * * * * * * \n"
     ]
    }
   ],
   "source": [
    "for i in range(10):\n",
    "    for j in range(10):\n",
    "        print('* ', end='')\n",
    "    print()"
   ]
  },
  {
   "cell_type": "code",
   "execution_count": 16,
   "metadata": {},
   "outputs": [
    {
     "name": "stdout",
     "output_type": "stream",
     "text": [
      "\n",
      "* \n",
      "* * \n",
      "* * * \n",
      "* * * * \n",
      "* * * * * \n",
      "* * * * * * \n",
      "* * * * * * * \n",
      "* * * * * * * * \n",
      "* * * * * * * * * \n"
     ]
    }
   ],
   "source": [
    "for i in range(10):\n",
    "    for j in range(i):\n",
    "        print('* ', end='')\n",
    "    print()"
   ]
  },
  {
   "cell_type": "code",
   "execution_count": 17,
   "metadata": {},
   "outputs": [
    {
     "name": "stdout",
     "output_type": "stream",
     "text": [
      "* * * * * * * * * * \n",
      "* * * * * * * * * \n",
      "* * * * * * * * \n",
      "* * * * * * * \n",
      "* * * * * * \n",
      "* * * * * \n",
      "* * * * \n",
      "* * * \n",
      "* * \n",
      "* \n"
     ]
    }
   ],
   "source": [
    "for i in range(10):\n",
    "    for j in range(i, 10):\n",
    "        print('* ', end='')\n",
    "    print()"
   ]
  },
  {
   "cell_type": "code",
   "execution_count": 23,
   "metadata": {},
   "outputs": [
    {
     "name": "stdout",
     "output_type": "stream",
     "text": [
      "           * \n",
      "          * * \n",
      "         * * * \n",
      "        * * * * \n",
      "       * * * * * \n",
      "      * * * * * * \n",
      "     * * * * * * * \n",
      "    * * * * * * * * \n",
      "   * * * * * * * * * \n",
      "  * * * * * * * * * * \n"
     ]
    }
   ],
   "source": [
    "j=1\n",
    "for i in range(10, 0, -1):\n",
    "    print(i*' ','* '*j)\n",
    "    j+=1\n",
    "   "
   ]
  },
  {
   "cell_type": "code",
   "execution_count": null,
   "metadata": {},
   "outputs": [],
   "source": []
  }
 ],
 "metadata": {
  "interpreter": {
   "hash": "52b8f3224cbdd89a63a6f426132f26f2b039ae543b89892d6b3f5183c6cda480"
  },
  "kernelspec": {
   "display_name": "Python 3.9.1 64-bit",
   "name": "python3"
  },
  "language_info": {
   "codemirror_mode": {
    "name": "ipython",
    "version": 3
   },
   "file_extension": ".py",
   "mimetype": "text/x-python",
   "name": "python",
   "nbconvert_exporter": "python",
   "pygments_lexer": "ipython3",
   "version": "3.9.1"
  },
  "orig_nbformat": 4
 },
 "nbformat": 4,
 "nbformat_minor": 2
}
