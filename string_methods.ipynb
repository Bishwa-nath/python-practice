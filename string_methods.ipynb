{
 "cells": [
  {
   "cell_type": "markdown",
   "metadata": {},
   "source": [
    "# String methods in Python 3.9"
   ]
  },
  {
   "cell_type": "markdown",
   "metadata": {},
   "source": [
    "```capitalize()``` ----\tConverts the first character to upper case  \n",
    "```swapcase()``` ---- Swaps cases, lower case becomes upper case and vice versa  \n",
    "```lower()``` ---- Converts a string into lower case  \n",
    "```title()``` ---- Converts the first character of each word to upper case  \n",
    "```upper()``` ---- Converts a string into upper case  \n",
    "```casefold()``` ---- Converts string into lower case. More powerfull than ```lower()```"
   ]
  },
  {
   "cell_type": "code",
   "execution_count": 4,
   "metadata": {},
   "outputs": [
    {
     "name": "stdout",
     "output_type": "stream",
     "text": [
      "Capitalize: All chars are small\n",
      "Swap cases: sWAp tHe CAsEs\n",
      "To lower: swap the cases\n",
      "Title: This Is First String In Python.\n",
      "To upper: ALL CHARS ARE SMALL\n",
      "SwaP ThE caSeS\n",
      "Casefold: swap the cases\n"
     ]
    }
   ],
   "source": [
    "# all methods returns a string according to their usages.\n",
    "s1 = \"This is first string in Python.\"\n",
    "s2 = 'all chars are small'\n",
    "s3 = 'SwaP ThE caSeS'\n",
    "print('Capitalize:', s2.capitalize())\n",
    "print('Swap cases:', s3.swapcase())\n",
    "print('To lower:', s3.lower())\n",
    "print('Title:', s1.title())\n",
    "print('To upper:', s2.upper())\n",
    "print(s3)\n",
    "print('Casefold:', s3.casefold())"
   ]
  },
  {
   "cell_type": "markdown",
   "metadata": {},
   "source": [
    "```center()``` ----\tReturns a centered string  \n",
    "```ljust()``` ---- Returns a left justified version of the string  \n",
    "```rjust()``` ---- Returns a right justified version of the string"
   ]
  },
  {
   "cell_type": "code",
   "execution_count": 5,
   "metadata": {},
   "outputs": [
    {
     "name": "stdout",
     "output_type": "stream",
     "text": [
      "-------------Welcome\n",
      "---------to---------\n",
      "Python--------------\n"
     ]
    }
   ],
   "source": [
    "s = \"Welcome\"\n",
    "print(s.rjust(20, '-'))\n",
    "print(\"to\".center(20, '-'))\n",
    "print(\"Python\".ljust(20, '-'))"
   ]
  },
  {
   "cell_type": "code",
   "execution_count": 2,
   "metadata": {},
   "outputs": [
    {
     "name": "stdout",
     "output_type": "stream",
     "text": [
      "[3, 4, 5]\n",
      "[3, 567, 4, 5]\n"
     ]
    }
   ],
   "source": [
    "ls = [3, 4, 5]\n",
    "print(ls)\n",
    "ls[1:1] = [567]\n",
    "print(ls)"
   ]
  },
  {
   "cell_type": "markdown",
   "metadata": {},
   "source": [
    "```isalnum()``` ----\tReturns True if all characters in the string are alphanumeric  \n",
    "```isalpha()``` ----\tReturns True if all characters in the string are in the alphabet  \n",
    "```isdigit()``` ----\tReturns True if all characters in the string are digits  \n",
    "```islower()``` ----\tReturns True if all characters in the string are lower case  \n",
    "```isupper()``` ----\tReturns True if all characters in the string are upper case  "
   ]
  },
  {
   "cell_type": "code",
   "execution_count": 14,
   "metadata": {},
   "outputs": [
    {
     "name": "stdout",
     "output_type": "stream",
     "text": [
      "isalnum(): True\n",
      "isalpha(): True\n",
      "isdigit(): True\n",
      "islower(): True\n",
      "isupper(): True\n"
     ]
    }
   ],
   "source": [
    "string = \"CaCO3\"\n",
    "for c in string:\n",
    "    if c.isalnum():\n",
    "        print('isalnum():',True)\n",
    "        break\n",
    "for c in string:\n",
    "    if c.isalpha():\n",
    "        print('isalpha():', True)\n",
    "        break\n",
    "for c in string:\n",
    "    if c.isdigit():\n",
    "        print('isdigit():', True)\n",
    "        break\n",
    "for c in string:\n",
    "    if c.islower():\n",
    "        print('islower():', True)\n",
    "        break\n",
    "for c in string:\n",
    "    if c.isupper():\n",
    "        print('isupper():', True)\n",
    "        break"
   ]
  },
  {
   "cell_type": "markdown",
   "metadata": {},
   "source": [
    "```find()``` ----\tSearches the string for a specified value and returns the position/index (-1 if not found)  "
   ]
  },
  {
   "cell_type": "code",
   "execution_count": 18,
   "metadata": {},
   "outputs": [
    {
     "name": "stdout",
     "output_type": "stream",
     "text": [
      "-1 15\n",
      "-1\n"
     ]
    }
   ],
   "source": [
    "s = 'Programming in Python is Fun!'\n",
    "a = s.find('python')\n",
    "b = s.find('Python')\n",
    "print(a, b)\n",
    "print(s.find('Python', 1, 14))"
   ]
  },
  {
   "cell_type": "markdown",
   "metadata": {},
   "source": [
    "```count()``` ----\tReturns the number of times a specified value occurs in a string"
   ]
  },
  {
   "cell_type": "code",
   "execution_count": 25,
   "metadata": {},
   "outputs": [
    {
     "name": "stdout",
     "output_type": "stream",
     "text": [
      "6\n"
     ]
    }
   ],
   "source": [
    "s = \"ABBBABABABBBAABBAB\"\n",
    "sub_s = \"AB\"\n",
    "print(s.count(sub_s))\n"
   ]
  },
  {
   "cell_type": "code",
   "execution_count": 26,
   "metadata": {},
   "outputs": [
    {
     "name": "stdout",
     "output_type": "stream",
     "text": [
      "6\n"
     ]
    }
   ],
   "source": [
    "# Counts number of occurrence of a substring.\n",
    "res = 0\n",
    "sub_len = len(sub_s)\n",
    "for i in range(len(s)):\n",
    "    if s[i:i+sub_len] == sub_s:\n",
    "        res += 1\n",
    "print(res)"
   ]
  },
  {
   "cell_type": "code",
   "execution_count": 28,
   "metadata": {},
   "outputs": [
    {
     "name": "stdout",
     "output_type": "stream",
     "text": [
      "[0, 4, 6, 8, 13, 16]\n"
     ]
    }
   ],
   "source": [
    "inds = [x for x in range(len(s)) if s[x:x+sub_len]== sub_s]\n",
    "print(inds)"
   ]
  },
  {
   "cell_type": "markdown",
   "metadata": {},
   "source": [
    "```replace()``` ----\tReturns a string where a specified value is replaced with a specified value"
   ]
  },
  {
   "cell_type": "code",
   "execution_count": 30,
   "metadata": {},
   "outputs": [
    {
     "name": "stdout",
     "output_type": "stream",
     "text": [
      "XYBBXYXYXYBBAXYBXY\n",
      "XYBBXYXYABBBAABBAB\n"
     ]
    }
   ],
   "source": [
    "x = s.replace(\"AB\", \"XY\")\n",
    "print(x)\n",
    "y = s.replace(\"AB\", \"XY\", 3)\n",
    "print(y)"
   ]
  },
  {
   "cell_type": "markdown",
   "metadata": {},
   "source": [
    "```endswith()``` ----\tReturns true if the string ends with the specified value  \n",
    "```startswith()``` ----\tReturns true if the string starts with the specified value"
   ]
  },
  {
   "cell_type": "code",
   "execution_count": 31,
   "metadata": {},
   "outputs": [
    {
     "name": "stdout",
     "output_type": "stream",
     "text": [
      "False\n",
      "True\n"
     ]
    }
   ],
   "source": [
    "s = \"This is not real python\"\n",
    "print(s.startswith(\"this\"))\n",
    "print(s.endswith(\"python\"))"
   ]
  },
  {
   "cell_type": "markdown",
   "metadata": {},
   "source": [
    "```join()``` ----\tJoins the elements of an iterable to the end of the string"
   ]
  },
  {
   "cell_type": "code",
   "execution_count": 33,
   "metadata": {},
   "outputs": [
    {
     "name": "stdout",
     "output_type": "stream",
     "text": [
      "Hello-Hi-Tata-Bye-Bye\n",
      "a list of words in python\n",
      "name**dept**session\n"
     ]
    }
   ],
   "source": [
    "tpl = (\"Hello\", \"Hi\", \"Tata\", \"Bye\", \"Bye\")\n",
    "print('-'.join(tpl))\n",
    "ls = ['a', 'list', 'of', 'words', 'in', 'python']\n",
    "print(' '.join(ls))\n",
    "my_dic = {\"name\": \"Akash\", \"dept\": \"EEE\", \"session\": 2020}\n",
    "print('**'.join(my_dic))"
   ]
  },
  {
   "cell_type": "markdown",
   "metadata": {},
   "source": [
    "```strip()``` ----\tReturns a trimmed version of the string  \n",
    "```zfill()``` ----\tFills the string with a specified number of 0 values at the beginning  "
   ]
  },
  {
   "cell_type": "code",
   "execution_count": 35,
   "metadata": {},
   "outputs": [
    {
     "name": "stdout",
     "output_type": "stream",
     "text": [
      "Print(\"Python\")\n",
      "00000000OJ\n"
     ]
    }
   ],
   "source": [
    "a = '       Print(\"Python\")    '\n",
    "b = \"OJ\"\n",
    "print(a.strip())\n",
    "print(b.zfill(10))"
   ]
  },
  {
   "cell_type": "code",
   "execution_count": null,
   "metadata": {},
   "outputs": [],
   "source": []
  }
 ],
 "metadata": {
  "interpreter": {
   "hash": "52b8f3224cbdd89a63a6f426132f26f2b039ae543b89892d6b3f5183c6cda480"
  },
  "kernelspec": {
   "display_name": "Python 3.9.1 64-bit",
   "name": "python3"
  },
  "language_info": {
   "codemirror_mode": {
    "name": "ipython",
    "version": 3
   },
   "file_extension": ".py",
   "mimetype": "text/x-python",
   "name": "python",
   "nbconvert_exporter": "python",
   "pygments_lexer": "ipython3",
   "version": "3.9.1"
  },
  "orig_nbformat": 4
 },
 "nbformat": 4,
 "nbformat_minor": 2
}
