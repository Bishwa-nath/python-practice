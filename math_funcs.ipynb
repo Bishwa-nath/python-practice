{
 "cells": [
  {
   "cell_type": "markdown",
   "metadata": {},
   "source": [
    "# Mathematical functions in pythons"
   ]
  },
  {
   "cell_type": "markdown",
   "metadata": {},
   "source": [
    "# Number-theoretic functions"
   ]
  },
  {
   "cell_type": "code",
   "execution_count": 3,
   "metadata": {},
   "outputs": [],
   "source": [
    "import math\n",
    "a = 253.13578045\n",
    "b = -45862.62659\n",
    "c = 420"
   ]
  },
  {
   "cell_type": "code",
   "execution_count": 4,
   "metadata": {},
   "outputs": [
    {
     "name": "stdout",
     "output_type": "stream",
     "text": [
      "254\n",
      "-45862\n",
      "420\n"
     ]
    }
   ],
   "source": [
    "# Use of math.ceil(x) funciton\n",
    "print(math.ceil(a))     \n",
    "print(math.ceil(b))\n",
    "print(math.ceil(c))"
   ]
  },
  {
   "cell_type": "code",
   "execution_count": 5,
   "metadata": {},
   "outputs": [
    {
     "name": "stdout",
     "output_type": "stream",
     "text": [
      "45\n",
      "20\n"
     ]
    }
   ],
   "source": [
    "# Use of math.comb(n, r) - Combination\n",
    "print(math.comb(10, 2))\n",
    "print(math.comb(6, 3))"
   ]
  },
  {
   "cell_type": "code",
   "execution_count": 6,
   "metadata": {},
   "outputs": [
    {
     "name": "stdout",
     "output_type": "stream",
     "text": [
      "-2.1\n",
      "-1.0\n",
      "5.0\n",
      "4.5\n"
     ]
    }
   ],
   "source": [
    "# math.copysign(x, y) - magnitude (absolute value) of x but the sign of y.\n",
    "print(math.copysign(2.1, -3))\n",
    "print(math.copysign(1.0, -0.0))\n",
    "print(math.copysign(5, 0.0))\n",
    "print(math.copysign(-4.5, 2))"
   ]
  },
  {
   "cell_type": "code",
   "execution_count": 7,
   "metadata": {},
   "outputs": [
    {
     "name": "stdout",
     "output_type": "stream",
     "text": [
      "3.23230023\n",
      "532.455\n"
     ]
    }
   ],
   "source": [
    "# math.fabs(x) -  absolute value of x.\n",
    "print(math.fabs(3.23230023))\n",
    "print(math.fabs(-532.455))"
   ]
  },
  {
   "cell_type": "code",
   "execution_count": 8,
   "metadata": {},
   "outputs": [
    {
     "name": "stdout",
     "output_type": "stream",
     "text": [
      "3628800\n",
      "620448401733239439360000\n",
      "263130836933693530167218012160000000\n"
     ]
    }
   ],
   "source": [
    "# math.factorial(x) - error if x is not Int\n",
    "print(math.factorial(10))\n",
    "print(math.factorial(24))\n",
    "print(math.factorial(32))"
   ]
  },
  {
   "cell_type": "code",
   "execution_count": 9,
   "metadata": {},
   "outputs": [
    {
     "name": "stdout",
     "output_type": "stream",
     "text": [
      "253\n",
      "-45863\n",
      "420\n"
     ]
    }
   ],
   "source": [
    "# math.floor(x) - return floor of x.\n",
    "print(math.floor(a))\n",
    "print(math.floor(b))\n",
    "print(math.floor(c))"
   ]
  },
  {
   "cell_type": "code",
   "execution_count": 10,
   "metadata": {},
   "outputs": [
    {
     "name": "stdout",
     "output_type": "stream",
     "text": [
      "2.0\n",
      "147.0\n",
      "43.0\n"
     ]
    }
   ],
   "source": [
    "# math.fmod(x, y) - returns x % y\n",
    "print(math.fmod(17, 3))\n",
    "print(math.fmod(2433243, 564))\n",
    "print(math.fmod(43, 293))"
   ]
  },
  {
   "cell_type": "code",
   "execution_count": 12,
   "metadata": {},
   "outputs": [
    {
     "name": "stdout",
     "output_type": "stream",
     "text": [
      "(0.8212890625, 9)\n",
      "(0.5, 8)\n",
      "(0.84423828125, 11)\n"
     ]
    }
   ],
   "source": [
    "# math.frexp(x) - Return the mantissa and exponent of x as the pair (m, e) where x = m * 2 ** e\n",
    "print(math.frexp(420.5))\n",
    "print(math.frexp(128))\n",
    "print(math.frexp(1729))"
   ]
  },
  {
   "cell_type": "code",
   "execution_count": 15,
   "metadata": {},
   "outputs": [
    {
     "name": "stdout",
     "output_type": "stream",
     "text": [
      "0.9999999999999999\n",
      "1.0\n"
     ]
    }
   ],
   "source": [
    "# math.fsum(iterable) - Return an accurate floating point sum of values in the iterable (e.g. - list).\n",
    "ls = [.1, .1, .1, .1, .1, .1, .1, .1, .1, .1]\n",
    "print(sum(ls))\n",
    "print(math.fsum(ls))"
   ]
  },
  {
   "cell_type": "code",
   "execution_count": 19,
   "metadata": {},
   "outputs": [
    {
     "name": "stdout",
     "output_type": "stream",
     "text": [
      "7\n",
      "1\n",
      "43\n"
     ]
    }
   ],
   "source": [
    "# math.gcd(*intergers) - Return the greatest common divisor \n",
    "print(math.gcd(21, 35))\n",
    "print(math.gcd(1, 4))\n",
    "print(math.gcd(43, 0))"
   ]
  },
  {
   "cell_type": "code",
   "execution_count": 32,
   "metadata": {},
   "outputs": [
    {
     "name": "stdout",
     "output_type": "stream",
     "text": [
      "False\n",
      "True\n",
      "False\n"
     ]
    }
   ],
   "source": [
    "# math.isfinite(x) - Return True if x is neither an infinity nor a NaN, and False otherwise.\n",
    "print(math.isfinite(math.inf))\n",
    "print(math.isfinite(4641))\n",
    "print(math.isfinite(math.nan))"
   ]
  },
  {
   "cell_type": "code",
   "execution_count": 34,
   "metadata": {},
   "outputs": [
    {
     "name": "stdout",
     "output_type": "stream",
     "text": [
      "True\n",
      "True\n",
      "False\n",
      "False\n",
      "inf\n"
     ]
    }
   ],
   "source": [
    "# math.isinf(x) - Return True if x is a positive or negative infinity, and False otherwise.\n",
    "print(math.isinf(-math.inf))\n",
    "print(math.isinf(math.inf))\n",
    "print(math.isinf(a))\n",
    "print(math.isinf(math.nan))\n",
    "print(math.inf)"
   ]
  },
  {
   "cell_type": "code",
   "execution_count": 31,
   "metadata": {},
   "outputs": [
    {
     "name": "stdout",
     "output_type": "stream",
     "text": [
      "False\n",
      "False\n",
      "True\n"
     ]
    }
   ],
   "source": [
    "# math.isnan(x) - Return True if x is a NaN (not a number), and False otherwise\n",
    "print(math.isnan(562.32))\n",
    "print(math.isnan(342))\n",
    "print(math.isnan(math.nan))"
   ]
  },
  {
   "cell_type": "code",
   "execution_count": 36,
   "metadata": {},
   "outputs": [
    {
     "name": "stdout",
     "output_type": "stream",
     "text": [
      "20\n",
      "185\n",
      "185.02162035827055\n"
     ]
    }
   ],
   "source": [
    "# math.isqrt(n) - Return the integer square root of the nonnegative integer n. Int part only\n",
    "print(math.isqrt(400))\n",
    "print(math.isqrt(34233))\n",
    "print(math.sqrt(34233))"
   ]
  },
  {
   "cell_type": "code",
   "execution_count": null,
   "metadata": {},
   "outputs": [],
   "source": [
    "# math.lcm(*ints) - Return the least common multiple: version 3.9\n",
    "print(math.lcm(1, 36))  # 1\n",
    "print(math.lcm(6, 30))  # 30\n",
    "print(math.lcm(23, 0))  # 0"
   ]
  },
  {
   "cell_type": "code",
   "execution_count": 38,
   "metadata": {},
   "outputs": [
    {
     "name": "stdout",
     "output_type": "stream",
     "text": [
      "640.0\n",
      "32.0\n"
     ]
    }
   ],
   "source": [
    "# math.ldexp(x, i) - Return x * (2**i). This is essentially the inverse of function frexp().\n",
    "print(math.ldexp(5, 7))\n",
    "print(math.ldexp(8, 2))"
   ]
  },
  {
   "cell_type": "code",
   "execution_count": 39,
   "metadata": {},
   "outputs": [
    {
     "name": "stdout",
     "output_type": "stream",
     "text": [
      "720\n",
      "1\n",
      "120\n",
      "154440\n"
     ]
    }
   ],
   "source": [
    "# math.perm(n, r) - Permutation\n",
    "print(math.perm(10, 3))\n",
    "print(math.perm(8, 0))\n",
    "print(math.perm(5))\n",
    "print(math.perm(13, 5))"
   ]
  },
  {
   "cell_type": "code",
   "execution_count": 40,
   "metadata": {},
   "outputs": [
    {
     "name": "stdout",
     "output_type": "stream",
     "text": [
      "288\n"
     ]
    }
   ],
   "source": [
    "# math.prod(iterable, *, start=1) - Calculate the product of all the elements in the input iterable\n",
    "ls = [4, 9, 2, 4]\n",
    "print(math.prod(ls))"
   ]
  },
  {
   "cell_type": "code",
   "execution_count": 42,
   "metadata": {},
   "outputs": [
    {
     "data": {
      "text/plain": [
       "225"
      ]
     },
     "execution_count": 42,
     "metadata": {},
     "output_type": "execute_result"
    }
   ],
   "source": [
    "math.trunc(225)"
   ]
  },
  {
   "cell_type": "markdown",
   "metadata": {},
   "source": [
    "# Power and logarithm functions"
   ]
  },
  {
   "cell_type": "code",
   "execution_count": 43,
   "metadata": {},
   "outputs": [
    {
     "name": "stdout",
     "output_type": "stream",
     "text": [
      "148.4131591025766\n",
      "147.4131591025766\n"
     ]
    }
   ],
   "source": [
    "# math.exp(x)\n",
    "print(math.exp(5))\n",
    "# math.expm1(x) : Returns exp(x) - 1\n",
    "print(math.expm1(5))"
   ]
  },
  {
   "cell_type": "code",
   "execution_count": 44,
   "metadata": {},
   "outputs": [
    {
     "name": "stdout",
     "output_type": "stream",
     "text": [
      "6.907755278982137\n",
      "2.9999999999999996\n"
     ]
    }
   ],
   "source": [
    "# math.log(x) - Natural log (e based)\n",
    "print(math.log(1000))\n",
    "# math.log(x,[base]) - returns log(x)/log(base)\n",
    "print(math.log(1000, 10))"
   ]
  },
  {
   "cell_type": "code",
   "execution_count": 46,
   "metadata": {},
   "outputs": [
    {
     "name": "stdout",
     "output_type": "stream",
     "text": [
      "6.90875477931522\n",
      "5.840641657373398\n"
     ]
    }
   ],
   "source": [
    "# math.log1p(x) - Return the natural logarithm of 1+x (base e). \n",
    "# The result is calculated in a way which is accurate for x near zero.\n",
    "print(math.log1p(1000))\n",
    "print(math.log1p(343))"
   ]
  },
  {
   "cell_type": "code",
   "execution_count": 47,
   "metadata": {},
   "outputs": [
    {
     "name": "stdout",
     "output_type": "stream",
     "text": [
      "6.0\n",
      "6.0\n"
     ]
    }
   ],
   "source": [
    "# math.log2(x) - Return the base-2 logarithm of x. It is more accurate than log(x, 2)\n",
    "print(math.log2(64))\n",
    "print(math.log(64, 2))"
   ]
  },
  {
   "cell_type": "code",
   "execution_count": 49,
   "metadata": {},
   "outputs": [
    {
     "name": "stdout",
     "output_type": "stream",
     "text": [
      "3.0\n",
      "2.9999999999999996\n"
     ]
    }
   ],
   "source": [
    "# math.log10(x) - Return the base-10 log of x. More accurate than log(x, 10)\n",
    "print(math.log10(1000))\n",
    "print(math.log(1000, 10))"
   ]
  },
  {
   "cell_type": "code",
   "execution_count": 50,
   "metadata": {},
   "outputs": [
    {
     "name": "stdout",
     "output_type": "stream",
     "text": [
      "729.0\n",
      "1024.0\n",
      "141.4213562373095\n",
      "213.5415650406262\n"
     ]
    }
   ],
   "source": [
    "# math.pow(x, y) - Return x raised to the power y\n",
    "print(math.pow(3, 6))\n",
    "print(math.pow(2, 10))\n",
    "# math.sqrt(x) - Return the square root of x.\n",
    "print(math.sqrt(20000))\n",
    "print(math.sqrt(45600))"
   ]
  },
  {
   "cell_type": "code",
   "execution_count": null,
   "metadata": {},
   "outputs": [],
   "source": []
  }
 ],
 "metadata": {
  "interpreter": {
   "hash": "788178beefdb68d5e48ad2183f85e684309a2c70d93bedfb517993203a79ab3e"
  },
  "kernelspec": {
   "display_name": "Python 3.8.8 64-bit ('base': conda)",
   "name": "python3"
  },
  "language_info": {
   "codemirror_mode": {
    "name": "ipython",
    "version": 3
   },
   "file_extension": ".py",
   "mimetype": "text/x-python",
   "name": "python",
   "nbconvert_exporter": "python",
   "pygments_lexer": "ipython3",
   "version": "3.8.8"
  },
  "orig_nbformat": 4
 },
 "nbformat": 4,
 "nbformat_minor": 2
}
