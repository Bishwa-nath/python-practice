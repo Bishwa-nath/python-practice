{
 "cells": [
  {
   "cell_type": "markdown",
   "metadata": {},
   "source": [
    "# Dictionary methods\n",
    "## To store data in key: value pairs"
   ]
  },
  {
   "cell_type": "code",
   "execution_count": 1,
   "metadata": {},
   "outputs": [
    {
     "name": "stdout",
     "output_type": "stream",
     "text": [
      "{'name': 'Akash', 'age': 26, 'dept': 'CSE', 'session': '2018-19', 'skill': ['Python', 'C++', 'Java', 'MySQL', 'Linux']}\n",
      "5\n",
      "<class 'dict'>\n",
      "['Python', 'C++', 'Java', 'MySQL', 'Linux']\n"
     ]
    }
   ],
   "source": [
    "info = {\n",
    "    \"name\": \"Akash\",\n",
    "    \"age\": 26,\n",
    "    \"dept\": \"CSE\",\n",
    "    \"session\": \"2018-19\",\n",
    "    \"skill\": ['Python', 'C++', 'Java', 'MySQL', 'Linux']\n",
    "}\n",
    "print(info)\n",
    "print(len(info))\n",
    "print(type(info))\n",
    "print(info['skill'])"
   ]
  },
  {
   "cell_type": "markdown",
   "metadata": {},
   "source": [
    "```clear()``` ----\tRemoves all the elements from the dictionary  \n",
    "```copy()``` ----\tReturns a copy of the dictionary  \n",
    "```fromkeys()``` ----\tReturns a new dictionary with the specified keys and value  "
   ]
  },
  {
   "cell_type": "code",
   "execution_count": 3,
   "metadata": {},
   "outputs": [
    {
     "name": "stdout",
     "output_type": "stream",
     "text": [
      "['foo', 'foo', 'boo', 'go', 'boo', 'go', 'to', 'foo', 'boo']\n",
      "['foo', 'boo', 'go', 'to']\n"
     ]
    }
   ],
   "source": [
    "# Remeve duplicates using fromkeys()\n",
    "ls = ['foo', 'foo', 'boo', 'go', 'boo', 'go', 'to', 'foo', 'boo']\n",
    "print(ls)\n",
    "unique = list(dict.fromkeys(ls))\n",
    "print(unique)"
   ]
  },
  {
   "cell_type": "code",
   "execution_count": 7,
   "metadata": {},
   "outputs": [
    {
     "name": "stdout",
     "output_type": "stream",
     "text": [
      "{'name': 'Akash', 'age': 26, 'dept': 'CSE', 'session': '2018-19', 'skill': ['Python', 'C++', 'Java', 'MySQL', 'Linux']}\n",
      "{}\n",
      "{'fruit': 0, 'flower': 0, 'animal': 0, 'bird': 0}\n"
     ]
    }
   ],
   "source": [
    "info2 = info.copy()\n",
    "print(info2)\n",
    "info2.clear()\n",
    "print(info2)\n",
    "a = (\"fruit\", \"flower\", \"animal\", \"bird\")\n",
    "b = 0\n",
    "new_d = dict.fromkeys(a, b)\n",
    "print(new_d)"
   ]
  },
  {
   "cell_type": "markdown",
   "metadata": {},
   "source": [
    "```get()``` ----\tReturns the value of the specified key  \n",
    "```items()``` ----\tReturns a list containing a tuple for each key value pair  \n",
    "```keys()``` ----\tReturns a list containing the dictionary's keys  \n",
    "```values()``` ----\tReturns a list of all the values in the dictionary"
   ]
  },
  {
   "cell_type": "code",
   "execution_count": 10,
   "metadata": {},
   "outputs": [
    {
     "name": "stdout",
     "output_type": "stream",
     "text": [
      "['Matlab', 'R', 'PHP']\n",
      "Items: \n",
      "('name', 'Akash')\n",
      "('age', 26)\n",
      "('dept', 'CSE')\n",
      "('session', '2018-19')\n",
      "('skill', ['Matlab', 'R', 'PHP'])\n",
      "Kyes: \n",
      "name, age, dept, session, skill, \n",
      "Values: \n",
      "Akash, 26, CSE, 2018-19, ['Matlab', 'R', 'PHP'], "
     ]
    }
   ],
   "source": [
    "g = info.get('skill')\n",
    "print(g)\n",
    "print(\"Items: \")\n",
    "for i in info.items():\n",
    "    print(i)\n",
    "print(\"Kyes: \")\n",
    "for k in info.keys():\n",
    "    print(k, end=', ')\n",
    "print(\"\\nValues: \")\n",
    "for v in info.values():\n",
    "    print(v, end=', ')"
   ]
  },
  {
   "cell_type": "code",
   "execution_count": 4,
   "metadata": {},
   "outputs": [
    {
     "name": "stdout",
     "output_type": "stream",
     "text": [
      "dict_items([('name', 'Akash'), ('age', 26), ('dept', 'CSE'), ('session', '2018-19'), ('skill', ['Matlab', 'R', 'PHP'])])\n",
      "name = Akash\n",
      "age = 26\n",
      "dept = CSE\n",
      "session = 2018-19\n",
      "skill = ['Matlab', 'R', 'PHP']\n"
     ]
    }
   ],
   "source": [
    "item = info.items()\n",
    "info['skill'] = ['Matlab', 'R', 'PHP'] # item gets updated!\n",
    "print(item)\n",
    "for k, v in info.items():\n",
    "    print(k,'=', v)"
   ]
  },
  {
   "cell_type": "markdown",
   "metadata": {},
   "source": [
    "```pop()``` ----\tRemoves the element with the specified key  \n",
    "```popitem()``` ----\tRemoves the last inserted key-value pair  "
   ]
  },
  {
   "cell_type": "code",
   "execution_count": 13,
   "metadata": {},
   "outputs": [
    {
     "name": "stdout",
     "output_type": "stream",
     "text": [
      "{'name': 'Akash', 'age': 24, 'dept': 'EEE', 'session': '2016-17'}\n",
      "24\n",
      "('session', '2016-17')\n",
      "{'name': 'Akash', 'dept': 'EEE'}\n"
     ]
    }
   ],
   "source": [
    "d = {\"name\": \"Akash\", \"age\": 24, \"dept\": \"EEE\", \"session\": \"2016-17\"}\n",
    "print(d)\n",
    "x = d.pop('age')\n",
    "print(x)\n",
    "y = d.popitem()\n",
    "print(y)\n",
    "print(d)"
   ]
  },
  {
   "cell_type": "markdown",
   "metadata": {},
   "source": [
    "```setdefault()``` ----\tReturns the value of the specified key. If the key does not exist: insert the key, with the specified value  \n",
    "```update()``` ----\tUpdates the dictionary with the specified key-value pairs  "
   ]
  },
  {
   "cell_type": "code",
   "execution_count": 14,
   "metadata": {},
   "outputs": [
    {
     "name": "stdout",
     "output_type": "stream",
     "text": [
      "{'name': 'Akash', 'dept': 'EEE', 'id': 17101233, 'skill': ['python', 'django', 'mysql']}\n"
     ]
    }
   ],
   "source": [
    "d['id'] = 17101233\n",
    "x = d.setdefault('skill', ['python', 'django', 'mysql'])\n",
    "print(d)\n"
   ]
  },
  {
   "cell_type": "code",
   "execution_count": 15,
   "metadata": {},
   "outputs": [
    {
     "name": "stdout",
     "output_type": "stream",
     "text": [
      "Akash\n"
     ]
    }
   ],
   "source": [
    "x = d.setdefault('name', 'Mona')\n",
    "print(x)"
   ]
  },
  {
   "cell_type": "code",
   "execution_count": 16,
   "metadata": {},
   "outputs": [
    {
     "name": "stdout",
     "output_type": "stream",
     "text": [
      "{'name': 'Akash', 'dept': 'EEE', 'id': 17101233, 'skill': ['python', 'django', 'mysql'], 'address': ('Mount vill', '420 CA', 'M45')}\n"
     ]
    }
   ],
   "source": [
    "# update() is used to insert new specified items to the dictionary.\n",
    "d.update({\"dept\": \"EEE\"})\n",
    "d.update({\"address\": (\"Mount vill\", \"420 CA\", \"M45\")})\n",
    "print(d)"
   ]
  },
  {
   "cell_type": "markdown",
   "metadata": {},
   "source": [
    "### Extra - String format()"
   ]
  },
  {
   "cell_type": "code",
   "execution_count": 21,
   "metadata": {},
   "outputs": [
    {
     "name": "stdout",
     "output_type": "stream",
     "text": [
      "    0     0     0     0\n",
      "    1     1     1     1\n",
      "    2     2     2    10\n",
      "    3     3     3    11\n",
      "    4     4     4   100\n",
      "    5     5     5   101\n",
      "    6     6     6   110\n",
      "    7     7     7   111\n",
      "    8    10     8  1000\n",
      "    9    11     9  1001\n",
      "   10    12     A  1010\n",
      "   11    13     B  1011\n",
      "   12    14     C  1100\n",
      "   13    15     D  1101\n",
      "   14    16     E  1110\n",
      "   15    17     F  1111\n",
      "   16    20    10 10000\n",
      "   17    21    11 10001\n",
      "   18    22    12 10010\n",
      "   19    23    13 10011\n",
      "   20    24    14 10100\n",
      "   21    25    15 10101\n"
     ]
    }
   ],
   "source": [
    "n = 21\n",
    "width = len('{0:b}'.format(n))\n",
    "for i in range(n+1):\n",
    "    print(\"{0:{width}d} {0:{width}o} {0:{width}X} {0:{width}b}\".format(i, width=width))"
   ]
  },
  {
   "cell_type": "code",
   "execution_count": null,
   "metadata": {},
   "outputs": [],
   "source": []
  }
 ],
 "metadata": {
  "interpreter": {
   "hash": "52b8f3224cbdd89a63a6f426132f26f2b039ae543b89892d6b3f5183c6cda480"
  },
  "kernelspec": {
   "display_name": "Python 3.9.1 64-bit ('Python39': venv)",
   "name": "python3"
  },
  "language_info": {
   "codemirror_mode": {
    "name": "ipython",
    "version": 3
   },
   "file_extension": ".py",
   "mimetype": "text/x-python",
   "name": "python",
   "nbconvert_exporter": "python",
   "pygments_lexer": "ipython3",
   "version": "3.9.1"
  },
  "orig_nbformat": 4
 },
 "nbformat": 4,
 "nbformat_minor": 2
}
