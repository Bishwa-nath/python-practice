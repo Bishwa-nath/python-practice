{
 "cells": [
  {
   "cell_type": "markdown",
   "metadata": {},
   "source": [
    "# Set Methods"
   ]
  },
  {
   "cell_type": "markdown",
   "metadata": {},
   "source": [
    "A set is a collection which is both unordered and unindexed.  \n",
    "Sets are written with curly brackets."
   ]
  },
  {
   "cell_type": "markdown",
   "metadata": {},
   "source": [
    "```add()``` ----\tAdds an element to the set  \n",
    "```clear()``` ----\tRemoves all the elements from the set  \n",
    "```copy()``` ----\tReturns a copy of the set  \n",
    "```pop()``` ----\tRemoves an element from the set  "
   ]
  },
  {
   "cell_type": "code",
   "execution_count": 11,
   "metadata": {},
   "outputs": [
    {
     "name": "stdout",
     "output_type": "stream",
     "text": [
      "{1, 2, 3, 100, 5, 6, 7, 8, 29}\n",
      "{1, 2, 3, 100, 5, 6, 7, 8, 29}\n",
      "set()\n",
      "1\n"
     ]
    }
   ],
   "source": [
    "ls = [100, 3, 5, 6, 2, 7, 3, 29, 8, 1, 3, 6]\n",
    "st = set()\n",
    "for x in ls:\n",
    "    st.add(x)\n",
    "print(st)\n",
    "st2 = st.copy()  \n",
    "print(st2)\n",
    "st2.clear()  # st2 is now empty\n",
    "print(st2)\n",
    "x = st.pop() \n",
    "print(x)\n"
   ]
  },
  {
   "cell_type": "markdown",
   "metadata": {},
   "source": [
    "```difference()``` ---- Returns a set containing the difference between two or more sets. Returns a set  \n",
    "```difference_update()``` ---- Removes the items in this set that are also included in another, specified set.\n",
    "                       it does not return anything."
   ]
  },
  {
   "cell_type": "code",
   "execution_count": 10,
   "metadata": {},
   "outputs": [
    {
     "name": "stdout",
     "output_type": "stream",
     "text": [
      "{'dog', 'banana'}\n",
      "{'dog', 'banana'}\n"
     ]
    }
   ],
   "source": [
    "set_a = {'apple', 'banana', 'cat', 'dog'}\n",
    "set_b = {'fish', 'apple', 'cat'}\n",
    "diff = set_a.difference(set_b)  # in math: A-B, where A and B are set.\n",
    "print(diff)\n",
    "set_a.difference_update(set_b)\n",
    "print(set_a)"
   ]
  },
  {
   "cell_type": "markdown",
   "metadata": {},
   "source": [
    "```discard()``` ----\tRemove the specified item.  \n",
    "```remove()``` ----\tRemoves the specified element. Will raise an error if the specified item does not exist but discard() not."
   ]
  },
  {
   "cell_type": "code",
   "execution_count": 12,
   "metadata": {},
   "outputs": [
    {
     "name": "stdout",
     "output_type": "stream",
     "text": [
      "{'apple', 'google'}\n",
      "{'apple', 'google'}\n"
     ]
    }
   ],
   "source": [
    "s = {'apple', 'google', 'ibm'}\n",
    "s.remove('ibm')\n",
    "print(s)\n",
    "s.discard('microsoft')  # Will not raise an error\n",
    "# s.remove('facebook')  # will raise an error\n",
    "print(s)"
   ]
  },
  {
   "cell_type": "markdown",
   "metadata": {},
   "source": [
    "```intersection()``` ----\tReturns a set, that is the intersection of two or more sets.  \n",
    "```union()``` ----\tReturn a set containing the union of sets.  \n",
    "```update()``` ----\tUpdate the set with another set, or any other iterable.  "
   ]
  },
  {
   "cell_type": "code",
   "execution_count": 16,
   "metadata": {},
   "outputs": [
    {
     "name": "stdout",
     "output_type": "stream",
     "text": [
      "{8, 5}\n",
      "{2, 4, 5, 6, 8, 10}\n",
      "{2, 4, 5, 6, 8, 10}\n"
     ]
    }
   ],
   "source": [
    "a = {4, 5, 2, 8}\n",
    "b = {5, 6, 8, 10}\n",
    "inter = a.intersection(b) # Returns all common elements.\n",
    "print(inter)\n",
    "uni = a.union(b)  # Returns all elements avoiding duplicates\n",
    "print(uni)\n",
    "b.update(a)  # Insert the items from set a into set b:\n",
    "print(b)"
   ]
  },
  {
   "cell_type": "markdown",
   "metadata": {},
   "source": [
    "```intersection_update()``` ----\tRemoves the items in this set that are not present in other, specified set(s) "
   ]
  },
  {
   "cell_type": "code",
   "execution_count": 17,
   "metadata": {},
   "outputs": [
    {
     "name": "stdout",
     "output_type": "stream",
     "text": [
      "{4, 7}\n",
      "{1, 2, 3, 4, 5, 6, 7, 8, 9, 10, 11, 22, 30}\n",
      "set: {4, 5, 6, 7, 8}\n",
      "after interct update:  {4, 7}\n"
     ]
    }
   ],
   "source": [
    "a = {4, 5, 6, 7, 8}\n",
    "b = {1, 2, 4, 5, 9, 7}\n",
    "c = {7, 8, 4, 10, 22, 11}\n",
    "d = {7, 4, 9, 30, 3}\n",
    "inter = a.intersection(b, c, d)\n",
    "print(inter)\n",
    "uni = a.union(b, c, d)\n",
    "print(uni)\n",
    "print(\"set:\", a)\n",
    "a.intersection_update(b, c, d)\n",
    "print(\"after interct update: \", a)"
   ]
  },
  {
   "cell_type": "markdown",
   "metadata": {},
   "source": [
    "```symmetric_difference()``` ----\tReturns a set with the symmetric differences of two sets.  \n",
    "```symmetric_difference_update()``` ----\tinserts the symmetric differences from this set and another.  "
   ]
  },
  {
   "cell_type": "code",
   "execution_count": 21,
   "metadata": {},
   "outputs": [
    {
     "name": "stdout",
     "output_type": "stream",
     "text": [
      "{1, 2, 5, 8, 9, 10, 11, 22}\n",
      "{1, 2, 3, 5, 30}\n"
     ]
    }
   ],
   "source": [
    "b = {1, 2, 4, 5, 9, 7}\n",
    "c = {7, 8, 4, 10, 22, 11}\n",
    "d = {7, 4, 9, 30, 3}\n",
    "symm_diff = b.symmetric_difference(c)\n",
    "print(symm_diff)\n",
    "b.symmetric_difference_update(d)\n",
    "print(b)"
   ]
  },
  {
   "cell_type": "markdown",
   "metadata": {},
   "source": [
    "```isdisjoint()``` ----\tReturns whether two sets have a intersection or not.  \n",
    "```issubset()``` ----\tReturns whether another set contains this set or not.  \n",
    "```issuperset()``` ----\tReturns whether this set contains another set or not.  "
   ]
  },
  {
   "cell_type": "code",
   "execution_count": 22,
   "metadata": {},
   "outputs": [
    {
     "name": "stdout",
     "output_type": "stream",
     "text": [
      "True\n",
      "False\n"
     ]
    }
   ],
   "source": [
    "a = {1, 2, 4, 5, 9, 7}\n",
    "b = {10, 20, 40, 50, 30}\n",
    "c = {7, 4, 9}\n",
    "# Return True if no items in set a is present in set b otherwise false:\n",
    "t = a.isdisjoint(b)\n",
    "print(t)\n",
    "f = a.isdisjoint(c)\n",
    "print(f)"
   ]
  },
  {
   "cell_type": "code",
   "execution_count": 26,
   "metadata": {},
   "outputs": [
    {
     "name": "stdout",
     "output_type": "stream",
     "text": [
      "False\n",
      "True\n"
     ]
    }
   ],
   "source": [
    "# Return True if all items in set x are present in set y:\n",
    "a = {3, 1, 8, 2, 5, 10}\n",
    "c = {8, 2, 10}\n",
    "t = a.issubset(c)\n",
    "print(t)\n",
    "f = c.issubset(a)\n",
    "print(f)"
   ]
  },
  {
   "cell_type": "code",
   "execution_count": 27,
   "metadata": {},
   "outputs": [
    {
     "name": "stdout",
     "output_type": "stream",
     "text": [
      "True\n"
     ]
    }
   ],
   "source": [
    "print(a.issuperset(c))"
   ]
  },
  {
   "cell_type": "code",
   "execution_count": null,
   "metadata": {},
   "outputs": [],
   "source": []
  }
 ],
 "metadata": {
  "interpreter": {
   "hash": "52b8f3224cbdd89a63a6f426132f26f2b039ae543b89892d6b3f5183c6cda480"
  },
  "kernelspec": {
   "display_name": "Python 3.9.1 64-bit",
   "language": "python",
   "name": "python3"
  },
  "language_info": {
   "codemirror_mode": {
    "name": "ipython",
    "version": 3
   },
   "file_extension": ".py",
   "mimetype": "text/x-python",
   "name": "python",
   "nbconvert_exporter": "python",
   "pygments_lexer": "ipython3",
   "version": "3.9.1"
  },
  "orig_nbformat": 4
 },
 "nbformat": 4,
 "nbformat_minor": 2
}
